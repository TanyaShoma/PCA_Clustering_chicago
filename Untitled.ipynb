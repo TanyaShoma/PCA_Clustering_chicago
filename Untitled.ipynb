{
 "cells": [
  {
   "cell_type": "markdown",
   "id": "fb12a579",
   "metadata": {},
   "source": [
    "# Chicago crime Analysis using PCA and Clustering\n",
    "\n",
    "This project is about visualizing chicago crime data and grouping the district according to the level of criminality. As our data contains a lot of disctrict we are going to use PCA for dimention reduction so we can have concise visualization. For grouping the data, unsupervise learning technique such as clustering is applied.The data use from this project is from the city of chicago web portal and can be download from the following [link](https://data.cityofchicago.org/Public-Safety/Crimes-2016-2020/3cx5-bci2/data).\n",
    "\n"
   ]
  },
  {
   "cell_type": "markdown",
   "id": "165a3f1b",
   "metadata": {},
   "source": [
    "## Data Description\n",
    "The dataset contains these columns :\n",
    "\n",
    "case_number : ID of the record\n",
    "date : Date of incident\n",
    "\n",
    "`iucr : Category of the crime, per Illinois Unified Crime Reporting (IUCR) code. [more](https://data.cityofchicago.org/widgets/c7ck-438e)\n",
    "\n",
    "description : More detailed description of the crime\n",
    "\n",
    "location_description : Location of the crime\n",
    "\n",
    "arrest : Whether an arrest was made\n",
    "\n",
    "domestic : Was the crime domestic?\n",
    "\n",
    "district : Which district code where the crime happened. [more](https://data.cityofchicago.org/Public-Safety/Boundaries-Police-Districts-current-/fthy-xz3r)\n",
    "\n",
    "ward : The ward code where the crime happened. more\n",
    "\n",
    "community_area : The community area code where the crime happened. more\n",
    "\n",
    "\n",
    "## Data Loading\n",
    "\n",
    "We are going to use to datasest, the first data set is the chicago crime from 2016 to 2016."
   ]
  },
  {
   "cell_type": "code",
   "execution_count": 1,
   "id": "841948be",
   "metadata": {},
   "outputs": [],
   "source": [
    "import pandas as pd"
   ]
  },
  {
   "cell_type": "code",
   "execution_count": 2,
   "id": "8f84fa30",
   "metadata": {},
   "outputs": [],
   "source": [
    "data1=pd.read_csv('2016-2020-chicago-crime.csv')\n"
   ]
  },
  {
   "cell_type": "markdown",
   "id": "9ee2a233",
   "metadata": {},
   "source": [
    "## Import Library"
   ]
  },
  {
   "cell_type": "code",
   "execution_count": 3,
   "id": "995b268a",
   "metadata": {},
   "outputs": [],
   "source": [
    "import numpy as np \n",
    "import pandas as pd \n",
    "import seaborn as sns\n",
    "import matplotlib.pyplot as plt\n",
    "\n",
    "#Kmeans\n",
    "\n",
    "import matplotlib.pyplot as plt\n",
    "from sklearn.cluster import KMeans\n",
    "from sklearn.metrics import silhouette_score"
   ]
  },
  {
   "cell_type": "markdown",
   "id": "3e5e38eb",
   "metadata": {},
   "source": [
    "## EDA\n",
    "\n",
    "Let have a good understanding of our data by performing some exploratory data analysis."
   ]
  },
  {
   "cell_type": "code",
   "execution_count": 4,
   "id": "91851dee",
   "metadata": {},
   "outputs": [
    {
     "data": {
      "text/html": [
       "<div>\n",
       "<style scoped>\n",
       "    .dataframe tbody tr th:only-of-type {\n",
       "        vertical-align: middle;\n",
       "    }\n",
       "\n",
       "    .dataframe tbody tr th {\n",
       "        vertical-align: top;\n",
       "    }\n",
       "\n",
       "    .dataframe thead th {\n",
       "        text-align: right;\n",
       "    }\n",
       "</style>\n",
       "<table border=\"1\" class=\"dataframe\">\n",
       "  <thead>\n",
       "    <tr style=\"text-align: right;\">\n",
       "      <th></th>\n",
       "      <th>Unnamed: 0</th>\n",
       "      <th>ID</th>\n",
       "      <th>Case Number</th>\n",
       "      <th>Date</th>\n",
       "      <th>Block</th>\n",
       "      <th>IUCR</th>\n",
       "      <th>Primary Type</th>\n",
       "      <th>Description</th>\n",
       "      <th>Location Description</th>\n",
       "      <th>Arrest</th>\n",
       "      <th>...</th>\n",
       "      <th>Ward</th>\n",
       "      <th>Community Area</th>\n",
       "      <th>FBI Code</th>\n",
       "      <th>X Coordinate</th>\n",
       "      <th>Y Coordinate</th>\n",
       "      <th>Year</th>\n",
       "      <th>Updated On</th>\n",
       "      <th>Latitude</th>\n",
       "      <th>Longitude</th>\n",
       "      <th>Location</th>\n",
       "    </tr>\n",
       "  </thead>\n",
       "  <tbody>\n",
       "    <tr>\n",
       "      <th>1279119</th>\n",
       "      <td>7419104</td>\n",
       "      <td>25052</td>\n",
       "      <td>JD215266</td>\n",
       "      <td>04/23/2020 03:10:00 PM</td>\n",
       "      <td>032XX W LEXINGTON ST</td>\n",
       "      <td>0110</td>\n",
       "      <td>HOMICIDE</td>\n",
       "      <td>FIRST DEGREE MURDER</td>\n",
       "      <td>YARD</td>\n",
       "      <td>True</td>\n",
       "      <td>...</td>\n",
       "      <td>24.0</td>\n",
       "      <td>27.0</td>\n",
       "      <td>01A</td>\n",
       "      <td>1154950.0</td>\n",
       "      <td>1896522.0</td>\n",
       "      <td>2020</td>\n",
       "      <td>10/17/2021 04:50:05 PM</td>\n",
       "      <td>41.871868</td>\n",
       "      <td>-87.706585</td>\n",
       "      <td>(41.871868304, -87.706584611)</td>\n",
       "    </tr>\n",
       "    <tr>\n",
       "      <th>1279120</th>\n",
       "      <td>7419117</td>\n",
       "      <td>11655282</td>\n",
       "      <td>JC224491</td>\n",
       "      <td>04/14/2019 03:00:00 AM</td>\n",
       "      <td>023XX S LAWNDALE AVE</td>\n",
       "      <td>0265</td>\n",
       "      <td>CRIMINAL SEXUAL ASSAULT</td>\n",
       "      <td>AGGRAVATED - OTHER</td>\n",
       "      <td>NURSING / RETIREMENT HOME</td>\n",
       "      <td>False</td>\n",
       "      <td>...</td>\n",
       "      <td>22.0</td>\n",
       "      <td>30.0</td>\n",
       "      <td>02</td>\n",
       "      <td>1152073.0</td>\n",
       "      <td>1888231.0</td>\n",
       "      <td>2019</td>\n",
       "      <td>10/17/2021 04:52:33 PM</td>\n",
       "      <td>41.849174</td>\n",
       "      <td>-87.717366</td>\n",
       "      <td>(41.849173995, -87.717365709)</td>\n",
       "    </tr>\n",
       "    <tr>\n",
       "      <th>1279121</th>\n",
       "      <td>7419241</td>\n",
       "      <td>12339263</td>\n",
       "      <td>JE197633</td>\n",
       "      <td>01/21/2019 03:00:00 PM</td>\n",
       "      <td>056XX S HOMAN AVE</td>\n",
       "      <td>1753</td>\n",
       "      <td>OFFENSE INVOLVING CHILDREN</td>\n",
       "      <td>SEXUAL ASSAULT OF CHILD BY FAMILY MEMBER</td>\n",
       "      <td>RESIDENCE</td>\n",
       "      <td>False</td>\n",
       "      <td>...</td>\n",
       "      <td>14.0</td>\n",
       "      <td>63.0</td>\n",
       "      <td>02</td>\n",
       "      <td>1154674.0</td>\n",
       "      <td>1866991.0</td>\n",
       "      <td>2019</td>\n",
       "      <td>10/17/2021 04:52:33 PM</td>\n",
       "      <td>41.790837</td>\n",
       "      <td>-87.708387</td>\n",
       "      <td>(41.790837062, -87.708386672)</td>\n",
       "    </tr>\n",
       "    <tr>\n",
       "      <th>1279122</th>\n",
       "      <td>7419323</td>\n",
       "      <td>12513707</td>\n",
       "      <td>JE411732</td>\n",
       "      <td>11/15/2019 12:01:00 AM</td>\n",
       "      <td>003XX N PINE AVE</td>\n",
       "      <td>0496</td>\n",
       "      <td>BATTERY</td>\n",
       "      <td>AGGRAVATED DOMESTIC BATTERY - KNIFE / CUTTING ...</td>\n",
       "      <td>APARTMENT</td>\n",
       "      <td>False</td>\n",
       "      <td>...</td>\n",
       "      <td>37.0</td>\n",
       "      <td>25.0</td>\n",
       "      <td>04B</td>\n",
       "      <td>NaN</td>\n",
       "      <td>NaN</td>\n",
       "      <td>2019</td>\n",
       "      <td>10/17/2021 04:52:33 PM</td>\n",
       "      <td>NaN</td>\n",
       "      <td>NaN</td>\n",
       "      <td>NaN</td>\n",
       "    </tr>\n",
       "    <tr>\n",
       "      <th>1279123</th>\n",
       "      <td>7419335</td>\n",
       "      <td>12514322</td>\n",
       "      <td>JE412520</td>\n",
       "      <td>11/15/2020 12:00:00 AM</td>\n",
       "      <td>065XX S LOWE AVE</td>\n",
       "      <td>1750</td>\n",
       "      <td>OFFENSE INVOLVING CHILDREN</td>\n",
       "      <td>CHILD ABUSE</td>\n",
       "      <td>RESIDENCE</td>\n",
       "      <td>False</td>\n",
       "      <td>...</td>\n",
       "      <td>20.0</td>\n",
       "      <td>68.0</td>\n",
       "      <td>08B</td>\n",
       "      <td>NaN</td>\n",
       "      <td>NaN</td>\n",
       "      <td>2020</td>\n",
       "      <td>10/17/2021 04:52:33 PM</td>\n",
       "      <td>NaN</td>\n",
       "      <td>NaN</td>\n",
       "      <td>NaN</td>\n",
       "    </tr>\n",
       "  </tbody>\n",
       "</table>\n",
       "<p>5 rows × 23 columns</p>\n",
       "</div>"
      ],
      "text/plain": [
       "         Unnamed: 0        ID Case Number                    Date  \\\n",
       "1279119     7419104     25052    JD215266  04/23/2020 03:10:00 PM   \n",
       "1279120     7419117  11655282    JC224491  04/14/2019 03:00:00 AM   \n",
       "1279121     7419241  12339263    JE197633  01/21/2019 03:00:00 PM   \n",
       "1279122     7419323  12513707    JE411732  11/15/2019 12:01:00 AM   \n",
       "1279123     7419335  12514322    JE412520  11/15/2020 12:00:00 AM   \n",
       "\n",
       "                        Block  IUCR                Primary Type  \\\n",
       "1279119  032XX W LEXINGTON ST  0110                    HOMICIDE   \n",
       "1279120  023XX S LAWNDALE AVE  0265     CRIMINAL SEXUAL ASSAULT   \n",
       "1279121     056XX S HOMAN AVE  1753  OFFENSE INVOLVING CHILDREN   \n",
       "1279122      003XX N PINE AVE  0496                     BATTERY   \n",
       "1279123      065XX S LOWE AVE  1750  OFFENSE INVOLVING CHILDREN   \n",
       "\n",
       "                                               Description  \\\n",
       "1279119                                FIRST DEGREE MURDER   \n",
       "1279120                                 AGGRAVATED - OTHER   \n",
       "1279121           SEXUAL ASSAULT OF CHILD BY FAMILY MEMBER   \n",
       "1279122  AGGRAVATED DOMESTIC BATTERY - KNIFE / CUTTING ...   \n",
       "1279123                                        CHILD ABUSE   \n",
       "\n",
       "              Location Description  Arrest  ...  Ward  Community Area  \\\n",
       "1279119                       YARD    True  ...  24.0            27.0   \n",
       "1279120  NURSING / RETIREMENT HOME   False  ...  22.0            30.0   \n",
       "1279121                  RESIDENCE   False  ...  14.0            63.0   \n",
       "1279122                  APARTMENT   False  ...  37.0            25.0   \n",
       "1279123                  RESIDENCE   False  ...  20.0            68.0   \n",
       "\n",
       "         FBI Code  X Coordinate  Y Coordinate  Year              Updated On  \\\n",
       "1279119       01A     1154950.0     1896522.0  2020  10/17/2021 04:50:05 PM   \n",
       "1279120        02     1152073.0     1888231.0  2019  10/17/2021 04:52:33 PM   \n",
       "1279121        02     1154674.0     1866991.0  2019  10/17/2021 04:52:33 PM   \n",
       "1279122       04B           NaN           NaN  2019  10/17/2021 04:52:33 PM   \n",
       "1279123       08B           NaN           NaN  2020  10/17/2021 04:52:33 PM   \n",
       "\n",
       "          Latitude  Longitude                       Location  \n",
       "1279119  41.871868 -87.706585  (41.871868304, -87.706584611)  \n",
       "1279120  41.849174 -87.717366  (41.849173995, -87.717365709)  \n",
       "1279121  41.790837 -87.708387  (41.790837062, -87.708386672)  \n",
       "1279122        NaN        NaN                            NaN  \n",
       "1279123        NaN        NaN                            NaN  \n",
       "\n",
       "[5 rows x 23 columns]"
      ]
     },
     "execution_count": 4,
     "metadata": {},
     "output_type": "execute_result"
    }
   ],
   "source": [
    "data1.tail()"
   ]
  },
  {
   "cell_type": "code",
   "execution_count": null,
   "id": "e43a92e5",
   "metadata": {},
   "outputs": [],
   "source": []
  },
  {
   "cell_type": "markdown",
   "id": "be942540",
   "metadata": {},
   "source": []
  },
  {
   "cell_type": "markdown",
   "id": "3bb62e18",
   "metadata": {},
   "source": [
    "### Dataframe shape, info \n",
    "\n",
    "Let check the shape of our two dataframe data1 and data2 to know the number of row and column for each dataframe."
   ]
  },
  {
   "cell_type": "code",
   "execution_count": 5,
   "id": "450db1a3",
   "metadata": {},
   "outputs": [
    {
     "data": {
      "text/plain": [
       "(1279124, 23)"
      ]
     },
     "metadata": {},
     "output_type": "display_data"
    }
   ],
   "source": [
    "display(data1.shape)\n"
   ]
  },
  {
   "cell_type": "markdown",
   "id": "ad4ab496",
   "metadata": {},
   "source": [
    "data1 contains 1279124 rows and 23 columns."
   ]
  },
  {
   "cell_type": "code",
   "execution_count": 6,
   "id": "b356ddac",
   "metadata": {},
   "outputs": [
    {
     "name": "stdout",
     "output_type": "stream",
     "text": [
      "<class 'pandas.core.frame.DataFrame'>\n",
      "RangeIndex: 1279124 entries, 0 to 1279123\n",
      "Data columns (total 23 columns):\n",
      " #   Column                Non-Null Count    Dtype  \n",
      "---  ------                --------------    -----  \n",
      " 0   Unnamed: 0            1279124 non-null  int64  \n",
      " 1   ID                    1279124 non-null  int64  \n",
      " 2   Case Number           1279124 non-null  object \n",
      " 3   Date                  1279124 non-null  object \n",
      " 4   Block                 1279124 non-null  object \n",
      " 5   IUCR                  1279124 non-null  object \n",
      " 6   Primary Type          1279124 non-null  object \n",
      " 7   Description           1279124 non-null  object \n",
      " 8   Location Description  1273183 non-null  object \n",
      " 9   Arrest                1279124 non-null  bool   \n",
      " 10  Domestic              1279124 non-null  bool   \n",
      " 11  Beat                  1279124 non-null  int64  \n",
      " 12  District              1279123 non-null  float64\n",
      " 13  Ward                  1279095 non-null  float64\n",
      " 14  Community Area        1279123 non-null  float64\n",
      " 15  FBI Code              1279124 non-null  object \n",
      " 16  X Coordinate          1263241 non-null  float64\n",
      " 17  Y Coordinate          1263241 non-null  float64\n",
      " 18  Year                  1279124 non-null  int64  \n",
      " 19  Updated On            1279124 non-null  object \n",
      " 20  Latitude              1263241 non-null  float64\n",
      " 21  Longitude             1263241 non-null  float64\n",
      " 22  Location              1263241 non-null  object \n",
      "dtypes: bool(2), float64(7), int64(4), object(10)\n",
      "memory usage: 207.4+ MB\n"
     ]
    }
   ],
   "source": [
    "data1.info()"
   ]
  },
  {
   "cell_type": "code",
   "execution_count": null,
   "id": "465483d6",
   "metadata": {},
   "outputs": [],
   "source": []
  },
  {
   "cell_type": "markdown",
   "id": "12881820",
   "metadata": {},
   "source": [
    "From the dataframe info we can see that many attributes as the wrong type, for example date from data1 is an object instead of date type.. So we are going to change Date to have a date data type. We did not bother to change Updated On because we are planning to drop that columns."
   ]
  },
  {
   "cell_type": "code",
   "execution_count": 7,
   "id": "240879b5",
   "metadata": {},
   "outputs": [],
   "source": [
    "# convert selectect column to numeric\n",
    "#data1[['IUCR']] = data1[['IUCR']].apply(pd.to_numeric)\n",
    "#print(data1.dtypes)\n",
    "#convert Date and Updated on to date\n",
    "data1['Date'] = pd.to_datetime(data1['Date'])\n",
    "\n"
   ]
  },
  {
   "cell_type": "code",
   "execution_count": 8,
   "id": "e253d190",
   "metadata": {},
   "outputs": [
    {
     "name": "stdout",
     "output_type": "stream",
     "text": [
      "Index(['Unnamed: 0', 'ID', 'Case Number', 'Date', 'Block', 'IUCR',\n",
      "       'Primary Type', 'Description', 'Location Description', 'Arrest',\n",
      "       'Domestic', 'Beat', 'District', 'Ward', 'Community Area', 'FBI Code',\n",
      "       'X Coordinate', 'Y Coordinate', 'Year', 'Updated On', 'Latitude',\n",
      "       'Longitude', 'Location'],\n",
      "      dtype='object')\n"
     ]
    }
   ],
   "source": [
    "print(data1.columns)"
   ]
  },
  {
   "cell_type": "markdown",
   "id": "5f2dac26",
   "metadata": {},
   "source": [
    "### Drop some columns\n",
    "\n",
    "We are going to drop some columns that we don't need for our analysis."
   ]
  },
  {
   "cell_type": "code",
   "execution_count": 9,
   "id": "bf2b98de",
   "metadata": {},
   "outputs": [],
   "source": [
    "columns_to_drop=['Location','Unnamed: 0', 'Case Number','Description','FBI Code','X Coordinate','Y Coordinate','Updated On','Latitude','Longitude','Location Description']\n",
    "data1 = data1.drop(columns_to_drop, axis=1)\n"
   ]
  },
  {
   "cell_type": "code",
   "execution_count": 10,
   "id": "5eb9c5b1",
   "metadata": {},
   "outputs": [
    {
     "name": "stdout",
     "output_type": "stream",
     "text": [
      "Index(['ID', 'Date', 'Block', 'IUCR', 'Primary Type', 'Arrest', 'Domestic',\n",
      "       'Beat', 'District', 'Ward', 'Community Area', 'Year'],\n",
      "      dtype='object')\n"
     ]
    }
   ],
   "source": [
    "print(data1.columns)"
   ]
  },
  {
   "cell_type": "code",
   "execution_count": 11,
   "id": "2f23782f",
   "metadata": {},
   "outputs": [],
   "source": [
    "columns_to_drop1=['Year','Beat','Block']\n",
    "data1 = data1.drop(columns_to_drop1, axis=1)"
   ]
  },
  {
   "cell_type": "code",
   "execution_count": 12,
   "id": "46ea9b75",
   "metadata": {},
   "outputs": [
    {
     "data": {
      "text/html": [
       "<div>\n",
       "<style scoped>\n",
       "    .dataframe tbody tr th:only-of-type {\n",
       "        vertical-align: middle;\n",
       "    }\n",
       "\n",
       "    .dataframe tbody tr th {\n",
       "        vertical-align: top;\n",
       "    }\n",
       "\n",
       "    .dataframe thead th {\n",
       "        text-align: right;\n",
       "    }\n",
       "</style>\n",
       "<table border=\"1\" class=\"dataframe\">\n",
       "  <thead>\n",
       "    <tr style=\"text-align: right;\">\n",
       "      <th></th>\n",
       "      <th>ID</th>\n",
       "      <th>Date</th>\n",
       "      <th>IUCR</th>\n",
       "      <th>Primary Type</th>\n",
       "      <th>Arrest</th>\n",
       "      <th>Domestic</th>\n",
       "      <th>District</th>\n",
       "      <th>Ward</th>\n",
       "      <th>Community Area</th>\n",
       "    </tr>\n",
       "  </thead>\n",
       "  <tbody>\n",
       "    <tr>\n",
       "      <th>0</th>\n",
       "      <td>11646166</td>\n",
       "      <td>2018-09-01 00:01:00</td>\n",
       "      <td>0810</td>\n",
       "      <td>THEFT</td>\n",
       "      <td>False</td>\n",
       "      <td>True</td>\n",
       "      <td>6.0</td>\n",
       "      <td>8.0</td>\n",
       "      <td>44.0</td>\n",
       "    </tr>\n",
       "    <tr>\n",
       "      <th>1</th>\n",
       "      <td>11645836</td>\n",
       "      <td>2016-05-01 00:25:00</td>\n",
       "      <td>1153</td>\n",
       "      <td>DECEPTIVE PRACTICE</td>\n",
       "      <td>False</td>\n",
       "      <td>False</td>\n",
       "      <td>8.0</td>\n",
       "      <td>15.0</td>\n",
       "      <td>63.0</td>\n",
       "    </tr>\n",
       "    <tr>\n",
       "      <th>2</th>\n",
       "      <td>12014684</td>\n",
       "      <td>2020-03-17 21:30:00</td>\n",
       "      <td>0820</td>\n",
       "      <td>THEFT</td>\n",
       "      <td>False</td>\n",
       "      <td>False</td>\n",
       "      <td>16.0</td>\n",
       "      <td>45.0</td>\n",
       "      <td>15.0</td>\n",
       "    </tr>\n",
       "    <tr>\n",
       "      <th>3</th>\n",
       "      <td>11645648</td>\n",
       "      <td>2018-01-01 08:00:00</td>\n",
       "      <td>1153</td>\n",
       "      <td>DECEPTIVE PRACTICE</td>\n",
       "      <td>False</td>\n",
       "      <td>False</td>\n",
       "      <td>25.0</td>\n",
       "      <td>30.0</td>\n",
       "      <td>19.0</td>\n",
       "    </tr>\n",
       "    <tr>\n",
       "      <th>4</th>\n",
       "      <td>11864018</td>\n",
       "      <td>2019-09-24 08:00:00</td>\n",
       "      <td>1154</td>\n",
       "      <td>DECEPTIVE PRACTICE</td>\n",
       "      <td>False</td>\n",
       "      <td>False</td>\n",
       "      <td>1.0</td>\n",
       "      <td>3.0</td>\n",
       "      <td>33.0</td>\n",
       "    </tr>\n",
       "  </tbody>\n",
       "</table>\n",
       "</div>"
      ],
      "text/plain": [
       "         ID                Date  IUCR        Primary Type  Arrest  Domestic  \\\n",
       "0  11646166 2018-09-01 00:01:00  0810               THEFT   False      True   \n",
       "1  11645836 2016-05-01 00:25:00  1153  DECEPTIVE PRACTICE   False     False   \n",
       "2  12014684 2020-03-17 21:30:00  0820               THEFT   False     False   \n",
       "3  11645648 2018-01-01 08:00:00  1153  DECEPTIVE PRACTICE   False     False   \n",
       "4  11864018 2019-09-24 08:00:00  1154  DECEPTIVE PRACTICE   False     False   \n",
       "\n",
       "   District  Ward  Community Area  \n",
       "0       6.0   8.0            44.0  \n",
       "1       8.0  15.0            63.0  \n",
       "2      16.0  45.0            15.0  \n",
       "3      25.0  30.0            19.0  \n",
       "4       1.0   3.0            33.0  "
      ]
     },
     "execution_count": 12,
     "metadata": {},
     "output_type": "execute_result"
    }
   ],
   "source": [
    "data1.head()"
   ]
  },
  {
   "cell_type": "markdown",
   "id": "edd58922",
   "metadata": {},
   "source": [
    "### Missing values handling"
   ]
  },
  {
   "cell_type": "code",
   "execution_count": 13,
   "id": "6cb1ff36",
   "metadata": {
    "scrolled": true
   },
   "outputs": [
    {
     "data": {
      "text/plain": [
       "ID                 0\n",
       "Date               0\n",
       "IUCR               0\n",
       "Primary Type       0\n",
       "Arrest             0\n",
       "Domestic           0\n",
       "District           1\n",
       "Ward              29\n",
       "Community Area     1\n",
       "dtype: int64"
      ]
     },
     "metadata": {},
     "output_type": "display_data"
    }
   ],
   "source": [
    "display(data1.isnull().sum())"
   ]
  },
  {
   "cell_type": "markdown",
   "id": "410f04b7",
   "metadata": {},
   "source": [
    "We have very low missing value, so we can just drop all the rows containing missing values"
   ]
  },
  {
   "cell_type": "code",
   "execution_count": 14,
   "id": "0f00170c",
   "metadata": {},
   "outputs": [],
   "source": [
    "# drop rows with missing values\n",
    "data1 = data1.dropna()"
   ]
  },
  {
   "cell_type": "code",
   "execution_count": 15,
   "id": "f748bcd4",
   "metadata": {},
   "outputs": [
    {
     "data": {
      "text/plain": [
       "ID                0\n",
       "Date              0\n",
       "IUCR              0\n",
       "Primary Type      0\n",
       "Arrest            0\n",
       "Domestic          0\n",
       "District          0\n",
       "Ward              0\n",
       "Community Area    0\n",
       "dtype: int64"
      ]
     },
     "metadata": {},
     "output_type": "display_data"
    }
   ],
   "source": [
    "display(data1.isnull().sum())"
   ]
  },
  {
   "cell_type": "code",
   "execution_count": 16,
   "id": "044788be",
   "metadata": {},
   "outputs": [
    {
     "name": "stdout",
     "output_type": "stream",
     "text": [
      "ID [11646166 11645836 12014684 ... 12339263 12513707 12514322]\n",
      "Date ['2018-09-01T00:01:00.000000000' '2016-05-01T00:25:00.000000000'\n",
      " '2020-03-17T21:30:00.000000000' ... '2019-09-04T02:23:00.000000000'\n",
      " '2020-04-19T00:57:00.000000000' '2020-04-23T15:10:00.000000000']\n",
      "IUCR ['0810' '1153' '0820' '1154' '0860' '2820' '0910' '0281' '0620' '1320'\n",
      " '0560' '1754' '1310' '2826' '1752' '0486' '1150' '1751' '0890' '0610'\n",
      " '1582' '1562' '0265' '2825' '2017' '2027' '0930' '0870' '1120' '1812'\n",
      " '1156' '1152' '0460' '5002' '1477' '4650' '1710' '0330' '4651' '031A'\n",
      " '1140' '1365' '0497' '2091' '2250' '2014' '1130' '1563' '2024' '1206'\n",
      " '0498' '1122' '1544' '4387' '1753' '2022' '2093' '0320' '2031' '5001'\n",
      " '1305' '141C' '1345' '1360' '051A' '1350' '5000' '3710' '1210' '0850'\n",
      " '1220' '0485' '1195' '0880' '1822' '0530' '1330' '1020' '1110' '041A'\n",
      " '2015' '1155' '1750' '0454' '2011' '1821' '1506' '143A' '033A' '0520'\n",
      " '2092' '0430' '5111' '5004' '1565' '0266' '2050' '0545' '0550' '0496'\n",
      " '0291' '2890' '5007' '1540' '0470' '1541' '1811' '5110' '0484' '1780'\n",
      " '2850' '502P' '0630' '1850' '0495' '1151' '0325' '2026' '3731' '041B'\n",
      " '5112' '1581' '1261' '2012' '0261' '1200' '1242' '1585' '0420' '2025'\n",
      " '0326' '1340' '1245' '3800' '0488' '0334' '0650' '0583' '4230' '502R'\n",
      " '143C' '5093' '500E' '3750' '3970' '0554' '1135' '2830' '0313' '1170'\n",
      " '0865' '2021' '0263' '141A' '0917' '1480' '2230' '1720' '142A' '1121'\n",
      " '1205' '0312' '3730' '0580' '0557' '0584' '2090' '2170' '1570' '2028'\n",
      " '0340' '2029' '1090' '501A' '1661' '4386' '0337' '5011' '1755' '0479'\n",
      " '0920' '2018' '4255' '4625' '5131' '1790' '0331' '0275' '0558' '1590'\n",
      " '0915' '1549' '4388' '0553' '2023' '4210' '0935' '2070' '3960' '2095'\n",
      " '3760' '1025' '031B' '2851' '2210' '1507' '2900' '2016' '502T' '1840'\n",
      " '2860' '5073' '1792' '141B' '051B' '1375' '0440' '1030' '1460' '2870'\n",
      " '0483' '1240' '1370' '0453' '0462' '4510' '1513' '0552' '143B' '1505'\n",
      " '1185' '0555' '1235' '5009' '3300' '4220' '2840' '2010' '2080' '2220'\n",
      " '0461' '3910' '5121' '1535' '5114' '1651' '2034' '0895' '0925' '0927'\n",
      " '1900' '3100' '4860' '1479' '0551' '0475' '4389' '2020' '1335' '4652'\n",
      " '1035' '1512' '1478' '1260' '1564' '1536' '0264' '4800' '2032' '2019'\n",
      " '2040' '0830' '1055' '5003' '033B' '1450' '0450' '0482' '2110' '1791'\n",
      " '1537' '501H' '2895' '0142' '0452' '1241' '5130' '2033' '2013' '3740'\n",
      " '4310' '1670' '1725' '500N' '5132' '1680' '0110' '1435' '3000' '0273'\n",
      " '2160' '0585' '1050' '0274' '0937' '0556' '1566' '4240' '2060' '1520'\n",
      " '0581' '1230' '0918' '1265' '2240' '1515' '3720' '0271' '5094' '1580'\n",
      " '0487' '3920' '0272' '1481' '3610' '5122' '1010' '3770' '1715' '3975'\n",
      " '1510' '5120' '3400' '5113' '3961' '3966' '1160' '1682' '0938' '142B'\n",
      " '1476' '1530' '5013' '4740' '0262' '1255' '1525' '2030' '3980' '2094'\n",
      " '1526' '0480' '3200' '1531' '0928' '1576' '0489' '0451' '2251' '0141'\n",
      " '1511' '3751' '1574' '0510']\n",
      "Primary Type ['THEFT' 'DECEPTIVE PRACTICE' 'OTHER OFFENSE' 'MOTOR VEHICLE THEFT'\n",
      " 'CRIM SEXUAL ASSAULT' 'BURGLARY' 'CRIMINAL DAMAGE' 'ASSAULT'\n",
      " 'OFFENSE INVOLVING CHILDREN' 'BATTERY' 'SEX OFFENSE'\n",
      " 'CRIMINAL SEXUAL ASSAULT' 'NARCOTICS' 'WEAPONS VIOLATION' 'ROBBERY'\n",
      " 'CRIMINAL TRESPASS' 'LIQUOR LAW VIOLATION'\n",
      " 'INTERFERENCE WITH PUBLIC OFFICER' 'ARSON' 'PROSTITUTION'\n",
      " 'PUBLIC PEACE VIOLATION' 'OBSCENITY' 'STALKING' 'KIDNAPPING'\n",
      " 'NON-CRIMINAL' 'INTIMIDATION' 'CONCEALED CARRY LICENSE VIOLATION'\n",
      " 'GAMBLING' 'NON-CRIMINAL (SUBJECT SPECIFIED)' 'NON - CRIMINAL'\n",
      " 'OTHER NARCOTIC VIOLATION' 'PUBLIC INDECENCY' 'HUMAN TRAFFICKING'\n",
      " 'HOMICIDE' 'RITUALISM']\n",
      "Arrest [False  True]\n",
      "Domestic [ True False]\n",
      "District [ 6.  8. 16. 25.  1. 12. 17. 11. 22.  3. 19. 20. 10. 14. 24.  4.  7.  5.\n",
      " 15. 18.  2.  9. 31.]\n",
      "Ward [ 8. 15. 45. 30.  3. 26. 33.  6. 36. 28. 27. 21. 18. 20. 42. 44. 47. 12.\n",
      " 32. 25.  2. 39. 40. 35. 34.  7.  1.  5. 41. 50.  9. 43. 48. 23. 17. 19.\n",
      " 10.  4. 24. 14. 29. 37. 49. 13. 16. 11. 22. 46. 31. 38.]\n",
      "Community Area [44. 63. 15. 19. 33. 24. 14. 26. 28. 73. 70. 42. 32.  6.  3. 30. 22. 13.\n",
      "  1. 46.  4. 20. 68. 53. 25. 69. 43. 27. 76.  2. 49.  7. 77. 23.  8. 71.\n",
      " 56. 10. 38. 72. 52. 66. 35. 29. 21. 58. 40. 11.  5. 65. 67. 59. 16. 17.\n",
      " 31. 61. 39. 18. 41. 47. 48. 51. 75. 55. 62.  9. 45. 60. 64. 57. 34. 36.\n",
      " 50. 54. 37. 12. 74.]\n"
     ]
    }
   ],
   "source": [
    "## print unique value of each column in data1\n",
    "column_list = data1.columns.values.tolist()\n",
    "for column_name in column_list:\n",
    "    print(column_name, data1[column_name].unique())"
   ]
  },
  {
   "cell_type": "code",
   "execution_count": 17,
   "id": "3de7a889",
   "metadata": {},
   "outputs": [
    {
     "data": {
      "text/plain": [
       "35"
      ]
     },
     "metadata": {},
     "output_type": "display_data"
    },
    {
     "data": {
      "text/plain": [
       "array(['THEFT', 'DECEPTIVE PRACTICE', 'OTHER OFFENSE',\n",
       "       'MOTOR VEHICLE THEFT', 'CRIM SEXUAL ASSAULT', 'BURGLARY',\n",
       "       'CRIMINAL DAMAGE', 'ASSAULT', 'OFFENSE INVOLVING CHILDREN',\n",
       "       'BATTERY', 'SEX OFFENSE', 'CRIMINAL SEXUAL ASSAULT', 'NARCOTICS',\n",
       "       'WEAPONS VIOLATION', 'ROBBERY', 'CRIMINAL TRESPASS',\n",
       "       'LIQUOR LAW VIOLATION', 'INTERFERENCE WITH PUBLIC OFFICER',\n",
       "       'ARSON', 'PROSTITUTION', 'PUBLIC PEACE VIOLATION', 'OBSCENITY',\n",
       "       'STALKING', 'KIDNAPPING', 'NON-CRIMINAL', 'INTIMIDATION',\n",
       "       'CONCEALED CARRY LICENSE VIOLATION', 'GAMBLING',\n",
       "       'NON-CRIMINAL (SUBJECT SPECIFIED)', 'NON - CRIMINAL',\n",
       "       'OTHER NARCOTIC VIOLATION', 'PUBLIC INDECENCY',\n",
       "       'HUMAN TRAFFICKING', 'HOMICIDE', 'RITUALISM'], dtype=object)"
      ]
     },
     "metadata": {},
     "output_type": "display_data"
    }
   ],
   "source": [
    "display(data1['Primary Type'].nunique())\n",
    "display(data1['Primary Type'].unique())"
   ]
  },
  {
   "cell_type": "markdown",
   "id": "e89fec9d",
   "metadata": {},
   "source": [
    "We have 35 unique value for Primary Type. As we can see from the above output it is possible to group some unique value together based on the chicago description of crime type found in the following [link](https://gis.chicagopolice.org/pages/crime_details) and also some crime types look the same."
   ]
  },
  {
   "cell_type": "code",
   "execution_count": 18,
   "id": "65301b59",
   "metadata": {},
   "outputs": [],
   "source": [
    "data1['Primary Type'].replace(['OBSCENITY','PUBLIC INDECENCY','CRIM SEXUAL ASSAULT','CRIMINAL SEXUAL ASSAULT','SEX OFFENSE'], 'CRIM_SEXUAL_ABUSE', inplace=True)\n",
    "data1['Primary Type'].replace(['BATTERY','RITUALISM'], 'AGGRAVATED_BATTERY', inplace=True)\n",
    "data1['Primary Type'].replace(['NON-CRIMINAL','NON-CRIMINAL (SUBJECT SPECIFIED)' ,'NON - CRIMINAL','PROSTITUTION'], 'NON-CRIMINAL', inplace=True)\n",
    "data1['Primary Type'].replace(['NARCOTICS', 'OTHER NARCOTIC VIOLATION'], 'DRUG_ABUSE', inplace=True)\n",
    "data1['Primary Type'].replace(['INTERFERENCE WITH PUBLIC OFFICER','PUBLIC PEACE VIOLATION','STALKING','DECEPTIVE PRACTICE','LIQUOR LAW VIOLATION','CONCEALED CARRY LICENSE VIOLATION','GAMBLING','INTIMIDATION','WEAPONS VIOLATION'], 'OTHER OFFENSE', inplace=True)\n",
    "data1['Primary Type'].replace(['ROBBERY', 'BURGLARY','MOTOR VEHICLE THEFT'], 'THEFT', inplace=True)\n",
    "data1['Primary Type'].replace(['ARSON'], 'CRIMINAL DAMAGE', inplace=True)\n",
    "#AGGRAVATED_BATTERY =['BATTERY','RITUALISM']\n",
    "#CRIM_SEXUAL_ABUSE =['OBSCENITY','PUBLIC INDECENCY','CRIM SEXUAL ASSAULT','CRIMINAL SEXUAL ASSAULT','SEX OFFENSE']\n",
    "#NON-CRIMINAL=['NON-CRIMINAL','NON-CRIMINAL (SUBJECT SPECIFIED)' ,'NON - CRIMINAL']\n",
    "#DRUG_ABUSE=['NARCOTICS', 'OTHER NARCOTIC VIOLATION']\n",
    "#DISORDERLY_CONDUCT=['INTERFERENCE WITH PUBLIC OFFICER','PUBLIC PEACE VIOLATION']"
   ]
  },
  {
   "cell_type": "code",
   "execution_count": 19,
   "id": "fd16f62a",
   "metadata": {},
   "outputs": [
    {
     "data": {
      "text/plain": [
       "13"
      ]
     },
     "metadata": {},
     "output_type": "display_data"
    },
    {
     "data": {
      "text/plain": [
       "array(['THEFT', 'OTHER OFFENSE', 'CRIM_SEXUAL_ABUSE', 'CRIMINAL DAMAGE',\n",
       "       'ASSAULT', 'OFFENSE INVOLVING CHILDREN', 'AGGRAVATED_BATTERY',\n",
       "       'DRUG_ABUSE', 'CRIMINAL TRESPASS', 'NON-CRIMINAL', 'KIDNAPPING',\n",
       "       'HUMAN TRAFFICKING', 'HOMICIDE'], dtype=object)"
      ]
     },
     "metadata": {},
     "output_type": "display_data"
    }
   ],
   "source": [
    "display(data1['Primary Type'].nunique())\n",
    "display(data1['Primary Type'].unique())"
   ]
  },
  {
   "cell_type": "markdown",
   "id": "7bddd56d",
   "metadata": {},
   "source": [
    "### Data Frame description"
   ]
  },
  {
   "cell_type": "code",
   "execution_count": 20,
   "id": "e8f2f89a",
   "metadata": {},
   "outputs": [
    {
     "data": {
      "text/html": [
       "<div>\n",
       "<style scoped>\n",
       "    .dataframe tbody tr th:only-of-type {\n",
       "        vertical-align: middle;\n",
       "    }\n",
       "\n",
       "    .dataframe tbody tr th {\n",
       "        vertical-align: top;\n",
       "    }\n",
       "\n",
       "    .dataframe thead th {\n",
       "        text-align: right;\n",
       "    }\n",
       "</style>\n",
       "<table border=\"1\" class=\"dataframe\">\n",
       "  <thead>\n",
       "    <tr style=\"text-align: right;\">\n",
       "      <th></th>\n",
       "      <th>ID</th>\n",
       "      <th>District</th>\n",
       "      <th>Ward</th>\n",
       "      <th>Community Area</th>\n",
       "    </tr>\n",
       "  </thead>\n",
       "  <tbody>\n",
       "    <tr>\n",
       "      <th>count</th>\n",
       "      <td>1.279094e+06</td>\n",
       "      <td>1.279094e+06</td>\n",
       "      <td>1.279094e+06</td>\n",
       "      <td>1.279094e+06</td>\n",
       "    </tr>\n",
       "    <tr>\n",
       "      <th>mean</th>\n",
       "      <td>1.130401e+07</td>\n",
       "      <td>1.120944e+01</td>\n",
       "      <td>2.322429e+01</td>\n",
       "      <td>3.677823e+01</td>\n",
       "    </tr>\n",
       "    <tr>\n",
       "      <th>std</th>\n",
       "      <td>7.843393e+05</td>\n",
       "      <td>6.947322e+00</td>\n",
       "      <td>1.397548e+01</td>\n",
       "      <td>2.143251e+01</td>\n",
       "    </tr>\n",
       "    <tr>\n",
       "      <th>min</th>\n",
       "      <td>2.224500e+04</td>\n",
       "      <td>1.000000e+00</td>\n",
       "      <td>1.000000e+00</td>\n",
       "      <td>1.000000e+00</td>\n",
       "    </tr>\n",
       "    <tr>\n",
       "      <th>25%</th>\n",
       "      <td>1.088326e+07</td>\n",
       "      <td>6.000000e+00</td>\n",
       "      <td>1.000000e+01</td>\n",
       "      <td>2.300000e+01</td>\n",
       "    </tr>\n",
       "    <tr>\n",
       "      <th>50%</th>\n",
       "      <td>1.133458e+07</td>\n",
       "      <td>1.000000e+01</td>\n",
       "      <td>2.400000e+01</td>\n",
       "      <td>3.200000e+01</td>\n",
       "    </tr>\n",
       "    <tr>\n",
       "      <th>75%</th>\n",
       "      <td>1.178613e+07</td>\n",
       "      <td>1.700000e+01</td>\n",
       "      <td>3.400000e+01</td>\n",
       "      <td>5.400000e+01</td>\n",
       "    </tr>\n",
       "    <tr>\n",
       "      <th>max</th>\n",
       "      <td>1.251432e+07</td>\n",
       "      <td>3.100000e+01</td>\n",
       "      <td>5.000000e+01</td>\n",
       "      <td>7.700000e+01</td>\n",
       "    </tr>\n",
       "  </tbody>\n",
       "</table>\n",
       "</div>"
      ],
      "text/plain": [
       "                 ID      District          Ward  Community Area\n",
       "count  1.279094e+06  1.279094e+06  1.279094e+06    1.279094e+06\n",
       "mean   1.130401e+07  1.120944e+01  2.322429e+01    3.677823e+01\n",
       "std    7.843393e+05  6.947322e+00  1.397548e+01    2.143251e+01\n",
       "min    2.224500e+04  1.000000e+00  1.000000e+00    1.000000e+00\n",
       "25%    1.088326e+07  6.000000e+00  1.000000e+01    2.300000e+01\n",
       "50%    1.133458e+07  1.000000e+01  2.400000e+01    3.200000e+01\n",
       "75%    1.178613e+07  1.700000e+01  3.400000e+01    5.400000e+01\n",
       "max    1.251432e+07  3.100000e+01  5.000000e+01    7.700000e+01"
      ]
     },
     "execution_count": 20,
     "metadata": {},
     "output_type": "execute_result"
    }
   ],
   "source": [
    "data1.describe()"
   ]
  },
  {
   "cell_type": "code",
   "execution_count": 21,
   "id": "f6d12ed2",
   "metadata": {},
   "outputs": [],
   "source": [
    "### Some visualization"
   ]
  },
  {
   "cell_type": "code",
   "execution_count": 22,
   "id": "5e973f0f",
   "metadata": {},
   "outputs": [
    {
     "data": {
      "image/png": "[encoded data removed]",
      "text/plain": [
       "<Figure size 432x288 with 1 Axes>"
      ]
     },
     "metadata": {
      "needs_background": "light"
     },
     "output_type": "display_data"
    }
   ],
   "source": [
    "data1['Month'] = data1['Date'].dt.month\n",
    "crime_count = data1.groupby('Month')['ID'].count()\n",
    "plt.bar(crime_count.index, crime_count.values)\n",
    "plt.xlabel('Month')\n",
    "plt.ylabel('Number of Crimes')\n",
    "plt.title('Chicago Crime Per month')\n",
    "\n",
    "for i, v in enumerate(crime_count.values):\n",
    "    plt.text(i, v, str(v), ha='center', va='bottom')\n",
    "\n"
   ]
  },
  {
   "cell_type": "markdown",
   "id": "01ff7b51",
   "metadata": {},
   "source": [
    "From the above plot we noticed that February has the low crime number but July and August has recorded the high number of crimes."
   ]
  },
  {
   "cell_type": "code",
   "execution_count": 23,
   "id": "24567241",
   "metadata": {},
   "outputs": [
    {
     "data": {
      "text/plain": [
       "Text(0.5, 1.0, 'Chicago Crime Per year')"
      ]
     },
     "execution_count": 23,
     "metadata": {},
     "output_type": "execute_result"
    },
    {
     "data": {
      "image/png": "[encoded data removed]",
      "text/plain": [
       "<Figure size 432x288 with 1 Axes>"
      ]
     },
     "metadata": {
      "needs_background": "light"
     },
     "output_type": "display_data"
    }
   ],
   "source": [
    "data1['year'] = data1['Date'].dt.year\n",
    "crime_count = data1.groupby('year')['ID'].count()\n",
    "plt.bar(crime_count.index, crime_count.values)\n",
    "plt.xlabel('Year')\n",
    "plt.ylabel('Number of Crimes')\n",
    "plt.title('Chicago Crime Per year')\n",
    "\n",
    "#for i, v in enumerate(crime_count.values):\n",
    "   # plt.text(i, v, str(v), ha='center', va='bottom')\n",
    "\n"
   ]
  },
  {
   "cell_type": "markdown",
   "id": "4f117b7c",
   "metadata": {},
   "source": [
    "The crime per year plot show that the number of crime for 2016,2017,2018 and 2019 are slightly diffent but we notice a sharp decrease on crime number for 2020. That lead us to the question does the crime decrease in 2020 due to covid 19 or the crime data for 2020 was not record for the all year. We are going to plot the crime count per month for 2020 to notice if there is any trend."
   ]
  },
  {
   "cell_type": "code",
   "execution_count": 24,
   "id": "007631b2",
   "metadata": {},
   "outputs": [
    {
     "data": {
      "image/png": "[encoded data removed]",
      "text/plain": [
       "<Figure size 720x432 with 1 Axes>"
      ]
     },
     "metadata": {
      "needs_background": "light"
     },
     "output_type": "display_data"
    }
   ],
   "source": [
    "# Create a new dataframe with only 2020 data\n",
    "crime_data_2020 = data1.loc[data1['Date'].dt.year == 2020]\n",
    "\n",
    "# Group crimes by month and count them\n",
    "crime_count = crime_data_2020.groupby(crime_data_2020['Date'].dt.month)['ID'].count()\n",
    "\n",
    "# Create bar plot with crime counts\n",
    "fig, ax = plt.subplots(figsize=(10, 6)) # Set figure size\n",
    "crime_count.plot(kind='bar', ax=ax)\n",
    "ax.set_title('Number of Crimes per Month in 2020')\n",
    "ax.set_xlabel('Month')\n",
    "ax.set_ylabel('Number of Crimes')\n",
    "plt.show()"
   ]
  },
  {
   "cell_type": "markdown",
   "id": "7dec38c2",
   "metadata": {},
   "source": [
    "From the above plot, we can see that the crime data was record from January to December. So the low crime rate may be for the fact that 2020 covid 19 has pushed people to stay home but this hypothese can not be prove in this project and it is out of the scope of this work."
   ]
  },
  {
   "cell_type": "code",
   "execution_count": 25,
   "id": "62b44a7b",
   "metadata": {},
   "outputs": [
    {
     "data": {
      "image/png": "[encoded data removed]",
      "text/plain": [
       "<Figure size 864x432 with 1 Axes>"
      ]
     },
     "metadata": {
      "needs_background": "light"
     },
     "output_type": "display_data"
    }
   ],
   "source": [
    "# Count the number of crimes for each primary type\n",
    "crime_counts = data1['Primary Type'].value_counts()\n",
    "\n",
    "# Create a barplot of the crime counts\n",
    "crime_counts.plot(kind='bar', figsize=(12,6))\n",
    "\n",
    "# Set the title and axis labels\n",
    "plt.title('Number of Crimes by Primary Type')\n",
    "plt.xlabel('Primary Type')\n",
    "plt.ylabel('Number of Crimes')\n",
    "\n",
    "# Show the plot\n",
    "plt.show()\n",
    "\n",
    "\n"
   ]
  },
  {
   "cell_type": "code",
   "execution_count": 26,
   "id": "5dc502ac",
   "metadata": {},
   "outputs": [
    {
     "data": {
      "image/png": "[encoded data removed]",
      "text/plain": [
       "<Figure size 864x432 with 1 Axes>"
      ]
     },
     "metadata": {
      "needs_background": "light"
     },
     "output_type": "display_data"
    }
   ],
   "source": [
    "# Count the number of crimes for District\n",
    "crime_counts = data1['District'].value_counts()\n",
    "\n",
    "# Create a barplot of the crime counts\n",
    "crime_counts.plot(kind='bar', figsize=(12,6))\n",
    "\n",
    "# Set the title and axis labels\n",
    "plt.title('Number of Crimes by District')\n",
    "plt.xlabel('District')\n",
    "plt.ylabel('Number of Crimes')\n",
    "\n",
    "# Show the plot\n",
    "plt.show()"
   ]
  },
  {
   "cell_type": "code",
   "execution_count": 27,
   "id": "0338ab5d",
   "metadata": {},
   "outputs": [
    {
     "data": {
      "image/png": "[encoded data removed]",
      "text/plain": [
       "<Figure size 864x432 with 1 Axes>"
      ]
     },
     "metadata": {
      "needs_background": "light"
     },
     "output_type": "display_data"
    }
   ],
   "source": [
    "# Count the number of crimes that lead to Arrest\n",
    "crime_counts = data1['Arrest'].value_counts()\n",
    "\n",
    "# Create a barplot of the crime counts\n",
    "crime_counts.plot(kind='bar', figsize=(12,6))\n",
    "\n",
    "# Set the title and axis labels\n",
    "plt.title('Number of Crimes by Arrest')\n",
    "plt.xlabel('Arrest')\n",
    "plt.ylabel('Number of Crimes')\n",
    "\n",
    "# Show the plot\n",
    "plt.show()\n"
   ]
  },
  {
   "cell_type": "code",
   "execution_count": 28,
   "id": "231c5214",
   "metadata": {},
   "outputs": [
    {
     "data": {
      "image/png": "[encoded data removed]",
      "text/plain": [
       "<Figure size 864x432 with 1 Axes>"
      ]
     },
     "metadata": {
      "needs_background": "light"
     },
     "output_type": "display_data"
    }
   ],
   "source": [
    "# Count the number of domestic crimes \n",
    "crime_counts = data1['Domestic'].value_counts()\n",
    "\n",
    "# Create a barplot of the crime counts\n",
    "crime_counts.plot(kind='bar', figsize=(12,6))\n",
    "\n",
    "# Set the title and axis labels\n",
    "plt.title('Number of Domestic Crimes')\n",
    "plt.xlabel('Domestic')\n",
    "plt.ylabel('Number of Crimes')\n",
    "\n",
    "# Show the plot\n",
    "plt.show()\n"
   ]
  },
  {
   "cell_type": "code",
   "execution_count": 29,
   "id": "4fd18bf6",
   "metadata": {},
   "outputs": [],
   "source": [
    "# Let Abreviate our crime to make it more clear on the biplot\n",
    "#data1['Primary Type'].replace(['CRIM_SEXUAL_ABUSE'], 'CSA', inplace=True)\n",
    "#data1['Primary Type'].replace(['AGGRAVATED_BATTERY'], 'AB', inplace=True)\n",
    "#data1['Primary Type'].replace(['NON-CRIMINAL'], 'NC', inplace=True)\n",
    "#data1['Primary Type'].replace(['DRUG_ABUSE'], 'DA', inplace=True)\n",
    "#data1['Primary Type'].replace(['OTHER OFFENSE'], 'OO', inplace=True)\n",
    "#data1['Primary Type'].replace(['THEFT'], 'T', inplace=True)\n",
    "#data1['Primary Type'].replace(['CRIMINAL DAMAGE'], 'CD', inplace=True)\n",
    "#data1['Primary Type'].replace(['ASSAULT'], 'AS', inplace=True)\n",
    "#data1['Primary Type'].replace(['OFFENSE INVOLVING CHILDREN'], 'CH', inplace=True)\n",
    "#data1['Primary Type'].replace(['CRIMINAL TRESPASS'], 'CT', inplace=True)\n",
    "#data1['Primary Type'].replace(['HOMICIDE'], 'H', inplace=True)\n",
    "#data1['Primary Type'].replace(['HUMAN TRAFFICKING','KIDNAPPING'], 'HT', inplace=True)\n",
    "\n",
    "       #'ASSAULT', 'OFFENSE INVOLVING CHILDREN', ',\n",
    "       #'DRUG_ABUSE', 'CRIMINAL TRESPASS', 'NON-CRIMINAL', 'KIDNAPPING',\n",
    "       #'HUMAN TRAFFICKING', 'HOMICIDE']"
   ]
  },
  {
   "cell_type": "markdown",
   "id": "195c7e53",
   "metadata": {},
   "source": [
    "## PCA and Clustering\n",
    "\n",
    "Our goal is to goup the district according to the level of crime, we are going to use Kmeans clustering with PCA to group the disctrict and then we are going to apply PCA before to apply Kmeans clustering."
   ]
  },
  {
   "cell_type": "code",
   "execution_count": 30,
   "id": "19d83fed",
   "metadata": {},
   "outputs": [
    {
     "data": {
      "text/html": [
       "<div>\n",
       "<style scoped>\n",
       "    .dataframe tbody tr th:only-of-type {\n",
       "        vertical-align: middle;\n",
       "    }\n",
       "\n",
       "    .dataframe tbody tr th {\n",
       "        vertical-align: top;\n",
       "    }\n",
       "\n",
       "    .dataframe thead th {\n",
       "        text-align: right;\n",
       "    }\n",
       "</style>\n",
       "<table border=\"1\" class=\"dataframe\">\n",
       "  <thead>\n",
       "    <tr style=\"text-align: right;\">\n",
       "      <th></th>\n",
       "      <th>District</th>\n",
       "      <th>AGGRAVATED_BATTERY</th>\n",
       "      <th>ASSAULT</th>\n",
       "      <th>CRIMINAL DAMAGE</th>\n",
       "      <th>CRIMINAL TRESPASS</th>\n",
       "      <th>CRIM_SEXUAL_ABUSE</th>\n",
       "      <th>DRUG_ABUSE</th>\n",
       "      <th>HOMICIDE</th>\n",
       "      <th>HUMAN TRAFFICKING</th>\n",
       "      <th>KIDNAPPING</th>\n",
       "      <th>NON-CRIMINAL</th>\n",
       "      <th>OFFENSE INVOLVING CHILDREN</th>\n",
       "      <th>OTHER OFFENSE</th>\n",
       "      <th>THEFT</th>\n",
       "    </tr>\n",
       "  </thead>\n",
       "  <tbody>\n",
       "    <tr>\n",
       "      <th>0</th>\n",
       "      <td>1.0</td>\n",
       "      <td>7645</td>\n",
       "      <td>3560</td>\n",
       "      <td>3767</td>\n",
       "      <td>2327</td>\n",
       "      <td>594</td>\n",
       "      <td>855</td>\n",
       "      <td>31</td>\n",
       "      <td>3</td>\n",
       "      <td>25</td>\n",
       "      <td>50</td>\n",
       "      <td>132</td>\n",
       "      <td>12891</td>\n",
       "      <td>36632</td>\n",
       "    </tr>\n",
       "    <tr>\n",
       "      <th>1</th>\n",
       "      <td>2.0</td>\n",
       "      <td>10967</td>\n",
       "      <td>4741</td>\n",
       "      <td>6482</td>\n",
       "      <td>1192</td>\n",
       "      <td>609</td>\n",
       "      <td>1435</td>\n",
       "      <td>130</td>\n",
       "      <td>6</td>\n",
       "      <td>37</td>\n",
       "      <td>74</td>\n",
       "      <td>484</td>\n",
       "      <td>9822</td>\n",
       "      <td>19740</td>\n",
       "    </tr>\n",
       "    <tr>\n",
       "      <th>2</th>\n",
       "      <td>3.0</td>\n",
       "      <td>14489</td>\n",
       "      <td>5615</td>\n",
       "      <td>7736</td>\n",
       "      <td>1367</td>\n",
       "      <td>613</td>\n",
       "      <td>1821</td>\n",
       "      <td>204</td>\n",
       "      <td>2</td>\n",
       "      <td>44</td>\n",
       "      <td>9</td>\n",
       "      <td>705</td>\n",
       "      <td>10102</td>\n",
       "      <td>17963</td>\n",
       "    </tr>\n",
       "    <tr>\n",
       "      <th>3</th>\n",
       "      <td>4.0</td>\n",
       "      <td>15778</td>\n",
       "      <td>6766</td>\n",
       "      <td>8848</td>\n",
       "      <td>1618</td>\n",
       "      <td>694</td>\n",
       "      <td>2646</td>\n",
       "      <td>229</td>\n",
       "      <td>5</td>\n",
       "      <td>75</td>\n",
       "      <td>34</td>\n",
       "      <td>938</td>\n",
       "      <td>12782</td>\n",
       "      <td>19864</td>\n",
       "    </tr>\n",
       "    <tr>\n",
       "      <th>4</th>\n",
       "      <td>5.0</td>\n",
       "      <td>12511</td>\n",
       "      <td>5338</td>\n",
       "      <td>7678</td>\n",
       "      <td>1462</td>\n",
       "      <td>524</td>\n",
       "      <td>2205</td>\n",
       "      <td>231</td>\n",
       "      <td>1</td>\n",
       "      <td>49</td>\n",
       "      <td>262</td>\n",
       "      <td>666</td>\n",
       "      <td>10983</td>\n",
       "      <td>15080</td>\n",
       "    </tr>\n",
       "  </tbody>\n",
       "</table>\n",
       "</div>"
      ],
      "text/plain": [
       "   District  AGGRAVATED_BATTERY  ASSAULT  CRIMINAL DAMAGE  CRIMINAL TRESPASS  \\\n",
       "0       1.0                7645     3560             3767               2327   \n",
       "1       2.0               10967     4741             6482               1192   \n",
       "2       3.0               14489     5615             7736               1367   \n",
       "3       4.0               15778     6766             8848               1618   \n",
       "4       5.0               12511     5338             7678               1462   \n",
       "\n",
       "   CRIM_SEXUAL_ABUSE  DRUG_ABUSE  HOMICIDE  HUMAN TRAFFICKING  KIDNAPPING  \\\n",
       "0                594         855        31                  3          25   \n",
       "1                609        1435       130                  6          37   \n",
       "2                613        1821       204                  2          44   \n",
       "3                694        2646       229                  5          75   \n",
       "4                524        2205       231                  1          49   \n",
       "\n",
       "   NON-CRIMINAL  OFFENSE INVOLVING CHILDREN  OTHER OFFENSE  THEFT  \n",
       "0            50                         132          12891  36632  \n",
       "1            74                         484           9822  19740  \n",
       "2             9                         705          10102  17963  \n",
       "3            34                         938          12782  19864  \n",
       "4           262                         666          10983  15080  "
      ]
     },
     "metadata": {},
     "output_type": "display_data"
    },
    {
     "data": {
      "text/html": [
       "<div>\n",
       "<style scoped>\n",
       "    .dataframe tbody tr th:only-of-type {\n",
       "        vertical-align: middle;\n",
       "    }\n",
       "\n",
       "    .dataframe tbody tr th {\n",
       "        vertical-align: top;\n",
       "    }\n",
       "\n",
       "    .dataframe thead th {\n",
       "        text-align: right;\n",
       "    }\n",
       "</style>\n",
       "<table border=\"1\" class=\"dataframe\">\n",
       "  <thead>\n",
       "    <tr style=\"text-align: right;\">\n",
       "      <th></th>\n",
       "      <th>District</th>\n",
       "      <th>AGGRAVATED_BATTERY</th>\n",
       "      <th>ASSAULT</th>\n",
       "      <th>CRIMINAL DAMAGE</th>\n",
       "      <th>CRIMINAL TRESPASS</th>\n",
       "      <th>CRIM_SEXUAL_ABUSE</th>\n",
       "      <th>DRUG_ABUSE</th>\n",
       "      <th>HOMICIDE</th>\n",
       "      <th>HUMAN TRAFFICKING</th>\n",
       "      <th>KIDNAPPING</th>\n",
       "      <th>NON-CRIMINAL</th>\n",
       "      <th>OFFENSE INVOLVING CHILDREN</th>\n",
       "      <th>OTHER OFFENSE</th>\n",
       "      <th>THEFT</th>\n",
       "    </tr>\n",
       "  </thead>\n",
       "  <tbody>\n",
       "    <tr>\n",
       "      <th>count</th>\n",
       "      <td>23.000000</td>\n",
       "      <td>23.000000</td>\n",
       "      <td>23.000000</td>\n",
       "      <td>23.000000</td>\n",
       "      <td>23.000000</td>\n",
       "      <td>23.000000</td>\n",
       "      <td>23.000000</td>\n",
       "      <td>23.000000</td>\n",
       "      <td>23.000000</td>\n",
       "      <td>23.000000</td>\n",
       "      <td>23.000000</td>\n",
       "      <td>23.000000</td>\n",
       "      <td>23.000000</td>\n",
       "      <td>23.000000</td>\n",
       "    </tr>\n",
       "    <tr>\n",
       "      <th>mean</th>\n",
       "      <td>13.000000</td>\n",
       "      <td>10449.652174</td>\n",
       "      <td>4231.043478</td>\n",
       "      <td>6161.913043</td>\n",
       "      <td>1348.652174</td>\n",
       "      <td>595.521739</td>\n",
       "      <td>2659.000000</td>\n",
       "      <td>146.043478</td>\n",
       "      <td>2.260870</td>\n",
       "      <td>37.173913</td>\n",
       "      <td>145.521739</td>\n",
       "      <td>494.260870</td>\n",
       "      <td>9632.913043</td>\n",
       "      <td>19708.826087</td>\n",
       "    </tr>\n",
       "    <tr>\n",
       "      <th>std</th>\n",
       "      <td>8.146388</td>\n",
       "      <td>4707.689518</td>\n",
       "      <td>1873.811756</td>\n",
       "      <td>2423.778172</td>\n",
       "      <td>498.602010</td>\n",
       "      <td>188.841653</td>\n",
       "      <td>3806.990997</td>\n",
       "      <td>114.932976</td>\n",
       "      <td>1.935726</td>\n",
       "      <td>19.949145</td>\n",
       "      <td>380.577536</td>\n",
       "      <td>277.197701</td>\n",
       "      <td>3387.244011</td>\n",
       "      <td>8476.977257</td>\n",
       "    </tr>\n",
       "    <tr>\n",
       "      <th>min</th>\n",
       "      <td>1.000000</td>\n",
       "      <td>3.000000</td>\n",
       "      <td>1.000000</td>\n",
       "      <td>3.000000</td>\n",
       "      <td>0.000000</td>\n",
       "      <td>4.000000</td>\n",
       "      <td>0.000000</td>\n",
       "      <td>0.000000</td>\n",
       "      <td>0.000000</td>\n",
       "      <td>0.000000</td>\n",
       "      <td>0.000000</td>\n",
       "      <td>5.000000</td>\n",
       "      <td>17.000000</td>\n",
       "      <td>5.000000</td>\n",
       "    </tr>\n",
       "    <tr>\n",
       "      <th>25%</th>\n",
       "      <td>6.500000</td>\n",
       "      <td>7137.000000</td>\n",
       "      <td>2871.500000</td>\n",
       "      <td>4865.000000</td>\n",
       "      <td>1137.500000</td>\n",
       "      <td>491.000000</td>\n",
       "      <td>705.000000</td>\n",
       "      <td>36.000000</td>\n",
       "      <td>0.500000</td>\n",
       "      <td>21.500000</td>\n",
       "      <td>17.500000</td>\n",
       "      <td>282.000000</td>\n",
       "      <td>8239.500000</td>\n",
       "      <td>15144.500000</td>\n",
       "    </tr>\n",
       "    <tr>\n",
       "      <th>50%</th>\n",
       "      <td>12.000000</td>\n",
       "      <td>10967.000000</td>\n",
       "      <td>4393.000000</td>\n",
       "      <td>6482.000000</td>\n",
       "      <td>1367.000000</td>\n",
       "      <td>613.000000</td>\n",
       "      <td>1435.000000</td>\n",
       "      <td>130.000000</td>\n",
       "      <td>2.000000</td>\n",
       "      <td>34.000000</td>\n",
       "      <td>34.000000</td>\n",
       "      <td>484.000000</td>\n",
       "      <td>9930.000000</td>\n",
       "      <td>18143.000000</td>\n",
       "    </tr>\n",
       "    <tr>\n",
       "      <th>75%</th>\n",
       "      <td>18.500000</td>\n",
       "      <td>14005.500000</td>\n",
       "      <td>5476.500000</td>\n",
       "      <td>7744.500000</td>\n",
       "      <td>1591.500000</td>\n",
       "      <td>720.500000</td>\n",
       "      <td>2672.500000</td>\n",
       "      <td>228.000000</td>\n",
       "      <td>4.000000</td>\n",
       "      <td>51.500000</td>\n",
       "      <td>73.000000</td>\n",
       "      <td>685.000000</td>\n",
       "      <td>12386.000000</td>\n",
       "      <td>23636.000000</td>\n",
       "    </tr>\n",
       "    <tr>\n",
       "      <th>max</th>\n",
       "      <td>31.000000</td>\n",
       "      <td>18357.000000</td>\n",
       "      <td>7434.000000</td>\n",
       "      <td>10811.000000</td>\n",
       "      <td>2327.000000</td>\n",
       "      <td>852.000000</td>\n",
       "      <td>18480.000000</td>\n",
       "      <td>418.000000</td>\n",
       "      <td>6.000000</td>\n",
       "      <td>75.000000</td>\n",
       "      <td>1843.000000</td>\n",
       "      <td>990.000000</td>\n",
       "      <td>13847.000000</td>\n",
       "      <td>37405.000000</td>\n",
       "    </tr>\n",
       "  </tbody>\n",
       "</table>\n",
       "</div>"
      ],
      "text/plain": [
       "        District  AGGRAVATED_BATTERY      ASSAULT  CRIMINAL DAMAGE  \\\n",
       "count  23.000000           23.000000    23.000000        23.000000   \n",
       "mean   13.000000        10449.652174  4231.043478      6161.913043   \n",
       "std     8.146388         4707.689518  1873.811756      2423.778172   \n",
       "min     1.000000            3.000000     1.000000         3.000000   \n",
       "25%     6.500000         7137.000000  2871.500000      4865.000000   \n",
       "50%    12.000000        10967.000000  4393.000000      6482.000000   \n",
       "75%    18.500000        14005.500000  5476.500000      7744.500000   \n",
       "max    31.000000        18357.000000  7434.000000     10811.000000   \n",
       "\n",
       "       CRIMINAL TRESPASS  CRIM_SEXUAL_ABUSE    DRUG_ABUSE    HOMICIDE  \\\n",
       "count          23.000000          23.000000     23.000000   23.000000   \n",
       "mean         1348.652174         595.521739   2659.000000  146.043478   \n",
       "std           498.602010         188.841653   3806.990997  114.932976   \n",
       "min             0.000000           4.000000      0.000000    0.000000   \n",
       "25%          1137.500000         491.000000    705.000000   36.000000   \n",
       "50%          1367.000000         613.000000   1435.000000  130.000000   \n",
       "75%          1591.500000         720.500000   2672.500000  228.000000   \n",
       "max          2327.000000         852.000000  18480.000000  418.000000   \n",
       "\n",
       "       HUMAN TRAFFICKING  KIDNAPPING  NON-CRIMINAL  \\\n",
       "count          23.000000   23.000000     23.000000   \n",
       "mean            2.260870   37.173913    145.521739   \n",
       "std             1.935726   19.949145    380.577536   \n",
       "min             0.000000    0.000000      0.000000   \n",
       "25%             0.500000   21.500000     17.500000   \n",
       "50%             2.000000   34.000000     34.000000   \n",
       "75%             4.000000   51.500000     73.000000   \n",
       "max             6.000000   75.000000   1843.000000   \n",
       "\n",
       "       OFFENSE INVOLVING CHILDREN  OTHER OFFENSE         THEFT  \n",
       "count                   23.000000      23.000000     23.000000  \n",
       "mean                   494.260870    9632.913043  19708.826087  \n",
       "std                    277.197701    3387.244011   8476.977257  \n",
       "min                      5.000000      17.000000      5.000000  \n",
       "25%                    282.000000    8239.500000  15144.500000  \n",
       "50%                    484.000000    9930.000000  18143.000000  \n",
       "75%                    685.000000   12386.000000  23636.000000  \n",
       "max                    990.000000   13847.000000  37405.000000  "
      ]
     },
     "metadata": {},
     "output_type": "display_data"
    },
    {
     "data": {
      "text/plain": [
       "Index(['District', 'AGGRAVATED_BATTERY', 'ASSAULT', 'CRIMINAL DAMAGE',\n",
       "       'CRIMINAL TRESPASS', 'CRIM_SEXUAL_ABUSE', 'DRUG_ABUSE', 'HOMICIDE',\n",
       "       'HUMAN TRAFFICKING', 'KIDNAPPING', 'NON-CRIMINAL',\n",
       "       'OFFENSE INVOLVING CHILDREN', 'OTHER OFFENSE', 'THEFT'],\n",
       "      dtype='object')"
      ]
     },
     "execution_count": 30,
     "metadata": {},
     "output_type": "execute_result"
    }
   ],
   "source": [
    "# Create a pivot table with districts as rows and primary types as columns\n",
    "data1_pivot = pd.pivot_table(data1, values='ID', index='District',columns='Primary Type',  aggfunc='count', fill_value=0)\n",
    "data1_pivot.to_csv('chicagocrime_pivot.csv', index=True)\n",
    "data=pd.read_csv('chicagocrime_pivot.csv')\n",
    "\n",
    "# Create a pivot table with districts as rows and primary types as columns\n",
    "#data1_pivot = pd.pivot_table(data1, values='ID', index='District', columns='Primary Type', aggfunc='count', fill_value=0)\n",
    "#data1_pivot.to_csv('crime_pivot.csv', index=False)\n",
    "\n",
    "# Print the resulting pivot table\n",
    "#print(pivot_table)\n",
    "# Print the resulting pivot table\n",
    "#print(data1_pivot)\n",
    "display(data.head())\n",
    "display(data.describe())\n",
    "data.columns"
   ]
  },
  {
   "cell_type": "code",
   "execution_count": 31,
   "id": "9a6a7571",
   "metadata": {},
   "outputs": [
    {
     "name": "stdout",
     "output_type": "stream",
     "text": [
      "   AGGRAVATED_BATTERY   ASSAULT  CRIMINAL DAMAGE  CRIMINAL TRESPASS  \\\n",
      "0           -0.398231 -0.393869        -0.368672          -0.263056   \n",
      "1           -0.015458 -0.127872        -0.200480          -0.245101   \n",
      "2           -0.115598 -0.147775        -0.125237           0.627159   \n",
      "3            0.080852  0.054074         0.261385          -0.172308   \n",
      "4           -0.176081 -0.103613        -0.103114           0.422673   \n",
      "5           -0.227979 -0.212455         0.259855          -0.476308   \n",
      "6            0.146889 -0.215155        -0.554053          -0.114349   \n",
      "7            0.184733  0.127693        -0.536998          -0.085566   \n",
      "8           -0.548477 -0.388078         0.160844           0.127319   \n",
      "9            0.617871 -0.731218         0.201278           0.074700   \n",
      "\n",
      "   CRIM_SEXUAL_ABUSE  DRUG_ABUSE  HOMICIDE  HUMAN TRAFFICKING  KIDNAPPING  \\\n",
      "0          -0.296484   -0.273014 -0.359126          -0.223768   -0.295488   \n",
      "1          -0.232943    0.564681  0.232435          -0.089420   -0.304693   \n",
      "2           0.521445    0.103507 -0.291167          -0.129762   -0.366064   \n",
      "3           0.193076   -0.009726  0.121312          -0.914531    0.043063   \n",
      "4          -0.407412    0.045452 -0.178740          -0.224488    0.661618   \n",
      "5           0.441394   -0.009126 -0.389095           0.169404    0.320059   \n",
      "6           0.339525    0.436547  0.086905          -0.019886    0.363201   \n",
      "7           0.209131   -0.606211  0.253039          -0.046397    0.086515   \n",
      "8           0.138567   -0.110886  0.679929           0.076872    0.062654   \n",
      "9          -0.098106   -0.152580  0.016748           0.034304   -0.022145   \n",
      "\n",
      "   NON-CRIMINAL  \n",
      "0     -0.228835  \n",
      "1      0.595950  \n",
      "2      0.193778  \n",
      "3     -0.047070  \n",
      "4      0.284330  \n",
      "5      0.362011  \n",
      "6     -0.407883  \n",
      "7      0.411079  \n",
      "8     -0.053415  \n",
      "9      0.051082  \n"
     ]
    }
   ],
   "source": [
    "\n",
    "from sklearn import preprocessing\n",
    "import pandas as pd\n",
    "from sklearn.preprocessing import StandardScaler\n",
    "from sklearn.decomposition import PCA\n",
    "\n",
    "# Select the relevant variables for PCA analysis\n",
    "variables = ['AGGRAVATED_BATTERY', 'ASSAULT', 'CRIMINAL DAMAGE','CRIMINAL TRESPASS', 'CRIM_SEXUAL_ABUSE', 'DRUG_ABUSE', 'HOMICIDE','HUMAN TRAFFICKING', 'KIDNAPPING', 'NON-CRIMINAL',]\n",
    "crime_data = data[variables]\n",
    "\n",
    "# Standardize the variables\n",
    "scaler = StandardScaler()\n",
    "scaled_data = scaler.fit_transform(crime_data)\n",
    "\n",
    "# Fit the PCA model to the preprocessed data\n",
    "pca = PCA()\n",
    "pca.fit(scaled_data)\n",
    "\n",
    "# Extract the principal components\n",
    "components = pd.DataFrame(pca.components_, columns=variables)\n",
    "\n",
    "# Print the variable loadings\n",
    "print(components)\n",
    "\n",
    "\n",
    "\n",
    "\n"
   ]
  },
  {
   "cell_type": "code",
   "execution_count": 32,
   "id": "d2a3553e",
   "metadata": {},
   "outputs": [
    {
     "name": "stdout",
     "output_type": "stream",
     "text": [
      "[5.99450669e-01 1.61315047e-01 8.81149883e-02 7.72331348e-02\n",
      " 4.00423020e-02 2.00985857e-02 8.45044736e-03 3.28355390e-03\n",
      " 1.66441342e-03 3.46858834e-04]\n"
     ]
    }
   ],
   "source": [
    "# Print the explained variance for each component\n",
    "print(pca.explained_variance_ratio_)"
   ]
  },
  {
   "cell_type": "code",
   "execution_count": 33,
   "id": "38acb3ff",
   "metadata": {},
   "outputs": [
    {
     "name": "stdout",
     "output_type": "stream",
     "text": [
      "[0.59945067 0.76076572 0.8488807  0.92611384 0.96615614 0.98625473\n",
      " 0.99470517 0.99798873 0.99965314 1.        ]\n"
     ]
    }
   ],
   "source": [
    "# Calculate the cumulative explained variance scaled from 0 to 1\n",
    "cumulative_variance = np.cumsum(pca.explained_variance_ratio_)\n",
    "cumulative_variance_scaled = cumulative_variance / cumulative_variance[-1]\n",
    "\n",
    "# Print the cumulative explained variance scaled from 0 to 1\n",
    "print(cumulative_variance_scaled)"
   ]
  },
  {
   "cell_type": "code",
   "execution_count": 34,
   "id": "36afb3cf",
   "metadata": {},
   "outputs": [
    {
     "data": {
      "image/png": "[encoded data removed]",
      "text/plain": [
       "<Figure size 432x288 with 1 Axes>"
      ]
     },
     "metadata": {
      "needs_background": "light"
     },
     "output_type": "display_data"
    }
   ],
   "source": [
    "# Plot the scree plot\n",
    "import matplotlib.pyplot as plt\n",
    "plt.plot(range(1, len(pca.explained_variance_ratio_) + 1), pca.explained_variance_ratio_.cumsum(), marker='o')\n",
    "plt.xlabel('Number of components')\n",
    "plt.ylabel('Cumulative explained variance')\n",
    "plt.show()"
   ]
  },
  {
   "cell_type": "code",
   "execution_count": 35,
   "id": "423b6aab",
   "metadata": {},
   "outputs": [
    {
     "data": {
      "image/png": "[encoded data removed]",
      "text/plain": [
       "<Figure size 432x288 with 1 Axes>"
      ]
     },
     "metadata": {
      "needs_background": "light"
     },
     "output_type": "display_data"
    }
   ],
   "source": [
    "import numpy as np\n",
    "import matplotlib.pyplot as plt\n",
    "\n",
    "# Define the biplot function\n",
    "def biplot(score, coeff, labels=None):\n",
    "    xs = score[:,0]\n",
    "    ys = score[:,1]\n",
    "    n = coeff.shape[0]\n",
    "    scalex = 1.0 / (xs.max() - xs.min())\n",
    "    scaley = 1.0 / (ys.max() - ys.min())\n",
    "    plt.scatter(xs * scalex, ys * scaley, c='gray', alpha=0.5)\n",
    "    for i in range(n):\n",
    "        plt.arrow(0, 0, coeff[i,0], coeff[i,1], color='r', alpha=0.5)\n",
    "        if labels is not None:\n",
    "            plt.text(coeff[i,0]*1.15, coeff[i,1]*1.15, labels[i], color='k', ha='center', va='center')\n",
    "    plt.xlim(-1,1)\n",
    "    plt.ylim(-1,1)\n",
    "    plt.xlabel(\"PC1\")\n",
    "    plt.ylabel(\"PC2\")\n",
    "    plt.grid()\n",
    "\n",
    "# Perform PCA on the data\n",
    "pca = PCA(n_components=2)\n",
    "principalComponents = pca.fit_transform(scaled_data)\n",
    "\n",
    "# Extract the principal component loadings\n",
    "loadings = pca.components_.T * np.sqrt(pca.explained_variance_)\n",
    "\n",
    "# Plot the biplot\n",
    "biplot(principalComponents, loadings, labels=variables)\n",
    "plt.show()\n"
   ]
  },
  {
   "cell_type": "code",
   "execution_count": 36,
   "id": "14002ed5",
   "metadata": {},
   "outputs": [
    {
     "data": {
      "image/png": "[encoded data removed]",
      "text/plain": [
       "<Figure size 432x288 with 1 Axes>"
      ]
     },
     "metadata": {
      "needs_background": "light"
     },
     "output_type": "display_data"
    }
   ],
   "source": [
    "# Fit the PCA model to the preprocessed data\n",
    "#pca = PCA()\n",
    "#pca.fit(scaled_data)\n",
    "\n",
    "# Transform the data to the principal component space\n",
    "#pca_data = pca.transform(scaled_data)\n",
    "\n",
    "# Get the loadings for the first two principal components\n",
    "loadings = pca.components_[:2].T\n",
    "\n",
    "# Plot the biplot\n",
    "fig, ax = plt.subplots()\n",
    "\n",
    "# Plot the scores on the first two principal components\n",
    "ax.scatter(scaled_data[:, 0], scaled_data[:, 1], color='blue')\n",
    "\n",
    "# Plot the loadings for the first two principal components\n",
    "for i in range(len(loadings)):\n",
    "    ax.arrow(0, 0, loadings[i, 0], loadings[i, 1], color='red', alpha=0.5)\n",
    "    ax.annotate(data.columns[i], (loadings[i, 0], loadings[i, 1]))\n",
    "\n",
    "# Label each data point with the name of the corresponding observation\n",
    "for i, name in enumerate(data.index):\n",
    "    ax.annotate(name, (scaled_data[i, 0], scaled_data[i, 1]))\n",
    "    \n",
    "# Add labels for the x- and y-axes\n",
    "ax.set_xlabel('PC1')\n",
    "ax.set_ylabel('PC2')\n",
    "\n",
    "# Display the plot\n",
    "plt.show()\n"
   ]
  },
  {
   "cell_type": "code",
   "execution_count": 37,
   "id": "ca0794a2",
   "metadata": {},
   "outputs": [
    {
     "data": {
      "text/plain": [
       "KMeans(n_clusters=4, random_state=0)"
      ]
     },
     "execution_count": 37,
     "metadata": {},
     "output_type": "execute_result"
    }
   ],
   "source": [
    "\n",
    "\n",
    "#Kmean on PCA data\n",
    "\n",
    "from sklearn.cluster import KMeans\n",
    "\n",
    "# Fit the PCA model to the preprocessed data and transform the data\n",
    "pca = PCA(n_components=5)\n",
    "pca.fit(scaled_data)\n",
    "pca_data = pca.transform(scaled_data)\n",
    "\n",
    "# Determine the appropriate number of principal components to use\n",
    "cumulative_variance = np.cumsum(pca.explained_variance_ratio_)\n",
    "n_components = np.argmax(cumulative_variance > 0.95) + 1\n",
    "\n",
    "# Use K-means clustering on the transformed principal components\n",
    "kmeans = KMeans(n_clusters=4, random_state=0)\n",
    "kmeans.fit(pca_data[:, :n_components])\n",
    "\n",
    "# Determine the appropriate number of clusters\n",
    "# using the elbow method or silhouette score\n",
    "\n"
   ]
  },
  {
   "cell_type": "code",
   "execution_count": 38,
   "id": "5a4e06ed",
   "metadata": {},
   "outputs": [
    {
     "name": "stderr",
     "output_type": "stream",
     "text": [
      "C:\\ProgramData\\Anaconda3\\lib\\site-packages\\sklearn\\cluster\\_kmeans.py:1036: UserWarning: KMeans is known to have a memory leak on Windows with MKL, when there are less chunks than available threads. You can avoid it by setting the environment variable OMP_NUM_THREADS=1.\n",
      "  warnings.warn(\n"
     ]
    },
    {
     "data": {
      "image/png": "[encoded data removed]",
      "text/plain": [
       "<Figure size 432x288 with 1 Axes>"
      ]
     },
     "metadata": {
      "needs_background": "light"
     },
     "output_type": "display_data"
    }
   ],
   "source": [
    "\n",
    "\n",
    "# Define a range of number of clusters to try\n",
    "k_range = range(1, 11)\n",
    "\n",
    "# Fit KMeans for each value of k\n",
    "sse = []\n",
    "for k in k_range:\n",
    "    kmeans = KMeans(n_clusters=k, random_state=0)\n",
    "    kmeans.fit(pca_data[:, :n_components])\n",
    "    sse.append(kmeans.inertia_)\n",
    "\n",
    "# Plot the SSE for each value of k\n",
    "plt.plot(k_range, sse, 'bx-')\n",
    "plt.xlabel('Number of Clusters (k)')\n",
    "plt.ylabel('Sum of Squared Errors (SSE)')\n",
    "plt.title('Elbow Method')\n",
    "plt.show()\n"
   ]
  },
  {
   "cell_type": "code",
   "execution_count": 39,
   "id": "1ce5ea9e",
   "metadata": {},
   "outputs": [
    {
     "data": {
      "image/png": "[encoded data removed]",
      "text/plain": [
       "<Figure size 432x288 with 1 Axes>"
      ]
     },
     "metadata": {
      "needs_background": "light"
     },
     "output_type": "display_data"
    }
   ],
   "source": [
    "#Plot the cluster\n",
    "\n",
    "import matplotlib.pyplot as plt\n",
    "from sklearn.cluster import KMeans\n",
    "\n",
    "# Define the number of clusters to use\n",
    "n_clusters = 3\n",
    "\n",
    "# Fit KMeans to the transformed data\n",
    "kmeans = KMeans(n_clusters=n_clusters, random_state=0)\n",
    "cluster_labels = kmeans.fit_predict(pca_data[:, :n_components])\n",
    "\n",
    "# Plot the data with color-coded clusters\n",
    "plt.scatter(pca_data[:, 0], pca_data[:, 1], c=cluster_labels, cmap='viridis')\n",
    "plt.xlabel('Principal Component 1')\n",
    "plt.ylabel('Principal Component 2')\n",
    "plt.title('KMeans Clustering Results ({} Clusters)'.format(n_clusters))\n",
    "plt.show()\n"
   ]
  },
  {
   "cell_type": "code",
   "execution_count": 40,
   "id": "2cf6ae24",
   "metadata": {},
   "outputs": [
    {
     "data": {
      "image/png": "[encoded data removed]",
      "text/plain": [
       "<Figure size 432x288 with 1 Axes>"
      ]
     },
     "metadata": {
      "needs_background": "light"
     },
     "output_type": "display_data"
    }
   ],
   "source": [
    "import matplotlib.pyplot as plt\n",
    "labels=data.index\n",
    "# Plot the K-means clusters with labeled points\n",
    "plt.scatter(pca_data[:, 0], pca_data[:, 1], c=kmeans.labels_)\n",
    "for i, txt in enumerate(labels):\n",
    "    plt.annotate(txt, (pca_data[:, 0][i], pca_data[:, 1][i]))\n",
    "plt.show()"
   ]
  },
  {
   "cell_type": "code",
   "execution_count": 41,
   "id": "8e35c573",
   "metadata": {},
   "outputs": [
    {
     "name": "stdout",
     "output_type": "stream",
     "text": [
      "                    0             1           2           3\n",
      "cluster                                                    \n",
      "0         4166.868938  -1509.340578 -186.253591 -182.167803\n",
      "1        -3590.625358    -91.455954  219.169774  245.069957\n",
      "2        14924.292115  10095.771892  651.532822  265.289173\n",
      "3       -10343.363960   2956.096712 -490.347329 -447.155356\n",
      "The inertia score is 136394180.64924708\n"
     ]
    }
   ],
   "source": [
    "from sklearn.cluster import KMeans\n",
    "from sklearn import datasets\n",
    "\n",
    "variables = ['AGGRAVATED_BATTERY', 'ASSAULT', 'CRIMINAL DAMAGE', 'CRIMINAL TRESPASS', 'CRIM_SEXUAL_ABUSE', 'DRUG_ABUSE', 'HOMICIDE', 'HUMAN TRAFFICKING', 'KIDNAPPING', 'NON-CRIMINAL']\n",
    "cluster_df = data.loc[:, variables]\n",
    "\n",
    "pca = PCA(n_components=4)\n",
    "pca.fit(cluster_df)\n",
    "transformed = pca.transform(cluster_df)\n",
    "\n",
    "kmeans = KMeans(n_clusters=4)\n",
    "kmeans.fit(transformed)\n",
    "\n",
    "\n",
    "cluster_means = pd.DataFrame(transformed).assign(cluster=kmeans.labels_).groupby('cluster').mean()\n",
    "print(cluster_means)\n",
    "\n",
    "\n",
    "\n",
    "\n",
    "from sklearn.cluster import KMeans\n",
    "from sklearn import datasets\n",
    "\n",
    "\n",
    "\n",
    "\n",
    "# Get the inertia score\n",
    "inertia = kmeans.inertia_\n",
    "print('The inertia score is',inertia)\n"
   ]
  },
  {
   "cell_type": "code",
   "execution_count": 42,
   "id": "ba9de85e",
   "metadata": {},
   "outputs": [
    {
     "name": "stdout",
     "output_type": "stream",
     "text": [
      "Silhouette score: 0.336\n",
      "Inertia score: 781429734.429\n",
      "          District  AGGRAVATED_BATTERY      ASSAULT  CRIMINAL DAMAGE  \\\n",
      "Cluster                                                                \n",
      "0         8.181818        14405.909091  5817.909091      8082.636364   \n",
      "1        31.000000            3.000000     1.000000         3.000000   \n",
      "2        18.285714         7068.285714  2815.571429      4662.285714   \n",
      "3        12.500000         8099.000000  3401.750000      5044.000000   \n",
      "\n",
      "         CRIMINAL TRESPASS  CRIM_SEXUAL_ABUSE   DRUG_ABUSE    HOMICIDE  \\\n",
      "Cluster                                                                  \n",
      "0              1476.000000         687.000000  4387.000000  235.636364   \n",
      "1                 0.000000           4.000000     0.000000    0.000000   \n",
      "2              1051.285714         460.857143  1328.571429   80.428571   \n",
      "3              1856.000000         727.500000   900.000000   51.000000   \n",
      "\n",
      "         HUMAN TRAFFICKING  KIDNAPPING  NON-CRIMINAL  \\\n",
      "Cluster                                                \n",
      "0                 2.818182   49.545455    280.090909   \n",
      "1                 0.000000    0.000000      0.000000   \n",
      "2                 1.714286   31.571429     18.571429   \n",
      "3                 2.250000   22.250000     34.000000   \n",
      "\n",
      "         OFFENSE INVOLVING CHILDREN  OTHER OFFENSE         THEFT  \n",
      "Cluster                                                           \n",
      "0                        727.636364   11595.000000  19812.818182  \n",
      "1                          5.000000      17.000000      5.000000  \n",
      "2                        352.571429    6902.428571  14786.714286  \n",
      "3                        222.750000   11419.500000  32962.500000  \n",
      "         ASSAULT  CRIMINAL DAMAGE  CRIMINAL TRESPASS  CRIM_SEXUAL_ABUSE  \\\n",
      "Cluster                                                                   \n",
      "0          63997            88909              16236               7557   \n",
      "1              1                3                  0                  4   \n",
      "2          19709            32636               7359               3226   \n",
      "3          13607            20176               7424               2910   \n",
      "\n",
      "         DRUG_ABUSE  HOMICIDE  HUMAN TRAFFICKING  KIDNAPPING  NON-CRIMINAL  \\\n",
      "Cluster                                                                      \n",
      "0             48257      2592                 31         545          3081   \n",
      "1                 0         0                  0           0             0   \n",
      "2              9300       563                 12         221           130   \n",
      "3              3600       204                  9          89           136   \n",
      "\n",
      "         OFFENSE INVOLVING CHILDREN  OTHER OFFENSE   THEFT  \n",
      "Cluster                                                     \n",
      "0                              8004         127545  217941  \n",
      "1                                 5             17       5  \n",
      "2                              2468          48317  103507  \n",
      "3                               891          45678  131850  \n"
     ]
    }
   ],
   "source": [
    "# Kmeans without PCA\n",
    "\n",
    "#Perform KMeans with 4 clusters\n",
    "kmeans = KMeans(n_clusters=4, random_state=42)\n",
    "kmeans.fit(data)\n",
    "\n",
    "# Compute the inertia score\n",
    "inertia = kmeans.inertia_\n",
    "\n",
    "# Compute the silhouette score\n",
    "silhouette_avg = silhouette_score(data, kmeans.labels_)\n",
    "\n",
    "# Print the silhouette score and inertia score\n",
    "print(\"Silhouette score: {:.3f}\".format(silhouette_avg))\n",
    "print(\"Inertia score: {:.3f}\".format(inertia))\n",
    "\n",
    "# Create a new DataFrame with the cluster labels\n",
    "labels = pd.DataFrame(kmeans.labels_, columns=['Cluster'])\n",
    "\n",
    "# Concatenate the cluster labels with the original data\n",
    "crime_data = pd.concat([data, labels], axis=1)\n",
    "\n",
    "# Group the data by cluster and compute the mean of each column\n",
    "cluster_means = crime_data.groupby('Cluster').mean()\n",
    "\n",
    "# Print the mean of each column for each cluster\n",
    "print(cluster_means)\n",
    "\n",
    "# Compute the count of each primary type for each cluster\n",
    "primary_type_counts = crime_data.groupby(['Cluster']).sum().iloc[:, 2:]\n",
    "\n",
    "# Print the count of each primary type for each cluster\n",
    "print(primary_type_counts)\n",
    "\n",
    "\n"
   ]
  },
  {
   "cell_type": "code",
   "execution_count": null,
   "id": "9a82df3f",
   "metadata": {},
   "outputs": [],
   "source": []
  },
  {
   "cell_type": "markdown",
   "id": "9f5e60c2",
   "metadata": {},
   "source": [
    "## Conclusion\n",
    "We have perform K means clustering on data with PCA and data without PCA. A good clustering model have a low inertia, indicating that the clusters are dense and well-separated. A high inertia, on the other hand, would indicate that the clusters are less well-defined and spread out. In this project the Kmeans clustering without PCA inertia is 781429734\n",
    "and the inertia Kmeans with PCA is 134636733. Kmeans with PCA perfome better than Kmeans witouth PCA"
   ]
  },
  {
   "cell_type": "markdown",
   "id": "1b5d29d7",
   "metadata": {},
   "source": [
    "https://data.cityofchicago.org/Public-Safety/Crimes-2016-2020/3cx5-bci2/data\n",
    "https://www.kaggle.com/datasets/aerlaut/chicago-narcotics-jan-2016-jul-2020\n",
    "https://data.cityofchicago.org/widgets/c7ck-438e\n",
    "\n",
    "https://www.kaggle.com/code/wafadje/predict-crime-rate-in-chicago/notebook\n",
    "https://www.kaggle.com/code/akshayreddykotha/us-crime-rate-k-means-clustering/notebook\n",
    "https://github.com/ganesh292/TorontoCrimeDataAnalysis"
   ]
  },
  {
   "cell_type": "code",
   "execution_count": null,
   "id": "eb42cbf3",
   "metadata": {},
   "outputs": [],
   "source": []
  }
 ],
 "metadata": {
  "kernelspec": {
   "display_name": "Python 3 (ipykernel)",
   "language": "python",
   "name": "python3"
  },
  "language_info": {
   "codemirror_mode": {
    "name": "ipython",
    "version": 3
   },
   "file_extension": ".py",
   "mimetype": "text/x-python",
   "name": "python",
   "nbconvert_exporter": "python",
   "pygments_lexer": "ipython3",
   "version": "3.9.12"
  }
 },
 "nbformat": 4,
 "nbformat_minor": 5
}
